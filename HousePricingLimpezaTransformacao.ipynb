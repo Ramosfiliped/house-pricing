{
  "cells": [
    {
      "cell_type": "markdown",
      "metadata": {
        "id": "-dyzHQgRRnkg"
      },
      "source": [
        "*Pré-Processamento: Limpeza e transformação de dados*\n",
        "\n",
        "**Grupo:** \n",
        "* Carlos Gabriel de Freitas - 19.1.4009\n",
        "* Gabriel Mace dos Santos Ferreira - 19.1.4013\n",
        "* Filipe Ramos de Souza Santo - 19.1.4027\n",
        "\n",
        "**Disciplina:** Mineração de Dados (BCC444)\n",
        "\n",
        "**Professor:** Anderson Almeida Ferreira"
      ]
    },
    {
      "cell_type": "code",
      "execution_count": null,
      "metadata": {
        "id": "VbyuTChbGSlv"
      },
      "outputs": [],
      "source": [
        "import pandas as pd\n",
        "import numpy as np\n",
        "import sklearn\n",
        "import matplotlib.pyplot as plt\n",
        "import seaborn as sn\n",
        "\n",
        "from sklearn.preprocessing import OneHotEncoder"
      ]
    },
    {
      "cell_type": "code",
      "execution_count": null,
      "metadata": {
        "colab": {
          "base_uri": "https://localhost:8080/"
        },
        "id": "1qY0V6W_IUmX",
        "outputId": "c1a5f854-22de-41ef-b7b3-cc7fe2d91da0"
      },
      "outputs": [
        {
          "output_type": "stream",
          "name": "stdout",
          "text": [
            "     PassengerId  Survived  Pclass  \\\n",
            "0              1         0       3   \n",
            "1              2         1       1   \n",
            "2              3         1       3   \n",
            "3              4         1       1   \n",
            "4              5         0       3   \n",
            "..           ...       ...     ...   \n",
            "886          887         0       2   \n",
            "887          888         1       1   \n",
            "888          889         0       3   \n",
            "889          890         1       1   \n",
            "890          891         0       3   \n",
            "\n",
            "                                                  Name     Sex   Age  SibSp  \\\n",
            "0                              Braund, Mr. Owen Harris    male  22.0      1   \n",
            "1    Cumings, Mrs. John Bradley (Florence Briggs Th...  female  38.0      1   \n",
            "2                               Heikkinen, Miss. Laina  female  26.0      0   \n",
            "3         Futrelle, Mrs. Jacques Heath (Lily May Peel)  female  35.0      1   \n",
            "4                             Allen, Mr. William Henry    male  35.0      0   \n",
            "..                                                 ...     ...   ...    ...   \n",
            "886                              Montvila, Rev. Juozas    male  27.0      0   \n",
            "887                       Graham, Miss. Margaret Edith  female  19.0      0   \n",
            "888           Johnston, Miss. Catherine Helen \"Carrie\"  female   NaN      1   \n",
            "889                              Behr, Mr. Karl Howell    male  26.0      0   \n",
            "890                                Dooley, Mr. Patrick    male  32.0      0   \n",
            "\n",
            "     Parch            Ticket     Fare Cabin Embarked  \n",
            "0        0         A/5 21171   7.2500   NaN        S  \n",
            "1        0          PC 17599  71.2833   C85        C  \n",
            "2        0  STON/O2. 3101282   7.9250   NaN        S  \n",
            "3        0            113803  53.1000  C123        S  \n",
            "4        0            373450   8.0500   NaN        S  \n",
            "..     ...               ...      ...   ...      ...  \n",
            "886      0            211536  13.0000   NaN        S  \n",
            "887      0            112053  30.0000   B42        S  \n",
            "888      2        W./C. 6607  23.4500   NaN        S  \n",
            "889      0            111369  30.0000  C148        C  \n",
            "890      0            370376   7.7500   NaN        Q  \n",
            "\n",
            "[891 rows x 12 columns]\n"
          ]
        }
      ],
      "source": [
        "df = pd.read_csv(\"./train.csv\")\n",
        "print(df)"
      ]
    },
    {
      "cell_type": "code",
      "execution_count": null,
      "metadata": {
        "colab": {
          "base_uri": "https://localhost:8080/"
        },
        "id": "llN_UYRcYtpF",
        "outputId": "d4b1d0a4-df52-4a48-bba5-9da4e8ce1b63"
      },
      "outputs": [
        {
          "output_type": "stream",
          "name": "stdout",
          "text": [
            "Colunas do Dataset: ['PassengerId', 'Survived', 'Pclass', 'Name', 'Sex', 'Age', 'SibSp', 'Parch', 'Ticket', 'Fare', 'Cabin', 'Embarked']\n",
            "\n",
            "Exemplos de valores para a coluna PassengerId: [1 2 3 4 5]\n",
            "\n",
            "Exemplos de valores para a coluna Survived: [0 1]\n",
            "\n",
            "Exemplos de valores para a coluna Pclass: [3 1 2]\n",
            "\n",
            "Exemplos de valores para a coluna Name: ['Braund, Mr. Owen Harris'\n",
            " 'Cumings, Mrs. John Bradley (Florence Briggs Thayer)'\n",
            " 'Heikkinen, Miss. Laina' 'Futrelle, Mrs. Jacques Heath (Lily May Peel)'\n",
            " 'Allen, Mr. William Henry']\n",
            "\n",
            "Exemplos de valores para a coluna Sex: ['male' 'female']\n",
            "\n",
            "Exemplos de valores para a coluna Age: [22. 38. 26. 35. nan]\n",
            "\n",
            "Exemplos de valores para a coluna SibSp: [1 0 3 4 2]\n",
            "\n",
            "Exemplos de valores para a coluna Parch: [0 1 2 5 3]\n",
            "\n",
            "Exemplos de valores para a coluna Ticket: ['A/5 21171' 'PC 17599' 'STON/O2. 3101282' '113803' '373450']\n",
            "\n",
            "Exemplos de valores para a coluna Fare: [ 7.25   71.2833  7.925  53.1     8.05  ]\n",
            "\n",
            "Exemplos de valores para a coluna Cabin: [nan 'C85' 'C123' 'E46' 'G6']\n",
            "\n",
            "Exemplos de valores para a coluna Embarked: ['S' 'C' 'Q' nan]\n",
            "\n"
          ]
        }
      ],
      "source": [
        "print(f'Colunas do Dataset: {list(df.columns)}\\n')\n",
        "\n",
        "for column in list(df.columns):\n",
        "  print(f'Exemplos de valores para a coluna {column}: {df[column].unique()[:5]}\\n')"
      ]
    },
    {
      "cell_type": "markdown",
      "metadata": {
        "id": "toysgZj6I1b0"
      },
      "source": [
        "#Questão 1.a\n",
        "\n",
        "##PassengerId\n",
        "\n",
        "  O atributo representa uma identificação única para cada indivíduo.\n",
        "\n",
        "  **tipo:** categórico ordinal, dado que o atributo é um número que identifica unicamente um indivíduo. \n",
        "\n",
        "##Survived\n",
        "\n",
        "  O atributo representa se o individuo sobreviveu ou não ao acidente do Titanic.\n",
        "\n",
        "  **tipo:** binário simétrico, dado que o atributo assume apenas 2 valores que possuem a mesma importância. \n",
        "\n",
        "##Pclass\n",
        "\n",
        "  O atributo representa a classe das acomodações do individuo.\n",
        "\n",
        "  **tipo:** ordinal discreto, dado que o atributo assume apenas 3 valores que possuem uma classificação significativa entre si. \n",
        "\n",
        "##Name\n",
        "\n",
        "  O atributo que representa o nome de um indivíduo.\n",
        "\n",
        "  **tipo:** categórico nominal, dado que o atributo representa o nome do individuo.\n",
        "\n",
        "  **valores possiveis:** Qualquer string possível\n",
        "\n",
        "##Sex\n",
        "\n",
        "  O atributo representa o sexo dos individuos.\n",
        "\n",
        "  **tipo:** binário simétrico, dado que o atributo assume apenas 2 valores que possuem a mesma importância. \n",
        " \n",
        "##Age\n",
        "\n",
        "  O atributo representa a idade dos individuos.\n",
        "\n",
        "  **tipo:** numérico de proporção, dado que o atributo é quantitativo e possui um ponto zero fixo \n",
        "\n",
        "##SibSp\n",
        "\n",
        "  O atributo representa o número de irmãos/cônjuges do individuo.\n",
        "\n",
        "\n",
        "  **tipo:** discreto numérico de proporção, dado que o atributo é quantitativo, possui um ponto zero fixo e valores finitos.\n",
        "\n",
        "##Parch\n",
        "\n",
        "  O atributo representa o número de pais/filhos do individuo.\n",
        "\n",
        "\n",
        "  **tipo:** discreto numérico de proporção, dado que o atributo é quantitativo, possui um ponto zero fixo e valores finitos.\n",
        "\n",
        "##Ticket\n",
        "\n",
        "  O atributo representa a identificação do bilhete do individuo, composta por números e caracteres.\n",
        "\n",
        "\n",
        "  **tipo:** categórico nominal, dado que o atributo identifica os bilhetes.\n",
        "\n",
        "##Fare\n",
        "\n",
        "  O atributo representa o custo do bilhete do individuo.\n",
        "\n",
        "\n",
        "  **tipo:** contínuo, dado que o atributo possui valores infinitos.\n",
        "\n",
        "##Cabin\n",
        "\n",
        "  O atributo representa a cabine que o individuo está alojado.\n",
        "\n",
        "\n",
        "  **tipo:** categórico nominal, dado que o atributo identifica as cabines.\n",
        "\n",
        "##Embarked\n",
        "\n",
        "  O atributo representa onde o individuo embarcou\n",
        "\n",
        "\n",
        "  **tipo:** discreto, dado que o atributo possui valores finitos.\n",
        "\n",
        "  **valores possíveis:** S (Southampton), Q (Queenstown) e C (Cherbourg)"
      ]
    },
    {
      "cell_type": "markdown",
      "metadata": {
        "id": "9PR0MuOWU0SA"
      },
      "source": [
        "## Questão 1.b"
      ]
    },
    {
      "cell_type": "code",
      "execution_count": null,
      "metadata": {
        "id": "82I3iYjRTtcJ"
      },
      "outputs": [],
      "source": [
        "def print_statistics(column_name):\n",
        "  print(f'Coluna: {column_name}')\n",
        "  print(f'Intervalo de Valores = [{df[column_name].min()} ~ {df[column_name].max()}]')\n",
        "  print(f'Valor Médio = {df[column_name].mean()}')\n",
        "  print(f'Valor Mínimo = {df[column_name].min()}')\n",
        "  print(f'Valor Máximo = {df[column_name].max()}')\n",
        "  print(f'Desvio Padrão = {df[column_name].std()}')"
      ]
    },
    {
      "cell_type": "code",
      "execution_count": null,
      "metadata": {
        "colab": {
          "base_uri": "https://localhost:8080/"
        },
        "id": "U_thheVWYRfK",
        "outputId": "96f35c38-3da6-48e6-9785-e21dc2f54b46"
      },
      "outputs": [
        {
          "output_type": "stream",
          "name": "stdout",
          "text": [
            "Coluna: Age\n",
            "Intervalo de Valores = [0.42 ~ 80.0]\n",
            "Valor Médio = 29.69911764705882\n",
            "Valor Mínimo = 0.42\n",
            "Valor Máximo = 80.0\n",
            "Desvio Padrão = 14.526497332334042\n",
            "\n",
            "Coluna: SibSp\n",
            "Intervalo de Valores = [0 ~ 8]\n",
            "Valor Médio = 0.5230078563411896\n",
            "Valor Mínimo = 0\n",
            "Valor Máximo = 8\n",
            "Desvio Padrão = 1.1027434322934317\n",
            "\n",
            "Coluna: Parch\n",
            "Intervalo de Valores = [0 ~ 6]\n",
            "Valor Médio = 0.38159371492704824\n",
            "Valor Mínimo = 0\n",
            "Valor Máximo = 6\n",
            "Desvio Padrão = 0.8060572211299483\n",
            "\n",
            "Coluna: Fare\n",
            "Intervalo de Valores = [0.0 ~ 512.3292]\n",
            "Valor Médio = 32.204207968574636\n",
            "Valor Mínimo = 0.0\n",
            "Valor Máximo = 512.3292\n",
            "Desvio Padrão = 49.6934285971809\n",
            "\n"
          ]
        }
      ],
      "source": [
        "numeric_attributes = ['Age', 'SibSp', 'Parch', 'Fare']\n",
        "for attribute in numeric_attributes:\n",
        "  print_statistics(attribute)\n",
        "  print()"
      ]
    },
    {
      "cell_type": "markdown",
      "metadata": {
        "id": "I7poI46np0mW"
      },
      "source": [
        "Podemos observar que, para todos os atributos númericos, o valor médio está mais próximo do valor mínimo do que o valor máximo.\n",
        "\n",
        "Se utilizassemos os valores médios dos atributos numéricos para traçar o perfil de um tripulante a bordo do Titanic, teríamos um indivíduo de 30 anos, que possui dois membros familiares (irmãos, cônjuges, pais ou filhos), e cujo bilhete custou 50 libras."
      ]
    },
    {
      "cell_type": "code",
      "execution_count": null,
      "metadata": {
        "colab": {
          "base_uri": "https://localhost:8080/",
          "height": 448
        },
        "id": "r72flEmSVpSk",
        "outputId": "2a5c1c75-3d84-4c25-d64b-41dc662fff32"
      },
      "outputs": [
        {
          "output_type": "stream",
          "name": "stdout",
          "text": [
            "Axes(0.125,0.11;0.775x0.77)\n"
          ]
        },
        {
          "output_type": "display_data",
          "data": {
            "text/plain": [
              "<Figure size 640x480 with 1 Axes>"
            ],
            "image/png": "[encoded data removed]"
          },
          "metadata": {}
        }
      ],
      "source": [
        "boxplot = df.boxplot(column=['Age', 'SibSp', 'Parch', 'Fare'])\n",
        "print(boxplot)"
      ]
    },
    {
      "cell_type": "markdown",
      "metadata": {
        "id": "x_mloLR6pzL2"
      },
      "source": [
        "Ao traçar os possíveis valores dos atributos numéricos em um gráfico *boxplot*, podemos observar que, por exemplo, valores superiores a 200 libras para o custo de bilhetes são *outliers*."
      ]
    },
    {
      "cell_type": "markdown",
      "metadata": {
        "id": "jNx9Bu7ZeImf"
      },
      "source": [
        "#Questão 1.c"
      ]
    },
    {
      "cell_type": "code",
      "execution_count": null,
      "metadata": {
        "id": "IPTT1vDMgdK9"
      },
      "outputs": [],
      "source": [
        "def probability(qtd, total):\n",
        "  return qtd/total"
      ]
    },
    {
      "cell_type": "code",
      "execution_count": null,
      "metadata": {
        "colab": {
          "base_uri": "https://localhost:8080/"
        },
        "id": "fdam4vvPew88",
        "outputId": "ddc2c68f-ee11-4922-f03d-19cd95567ae7"
      },
      "outputs": [
        {
          "output_type": "stream",
          "name": "stdout",
          "text": [
            "Valores possíveis para Survived: [0 1]\n",
            "Probabilidade de 0: 0.6161616161616161\n",
            "Probabilidade de 1: 0.3838383838383838\n",
            "Valores possíveis para Sex: ['male' 'female']\n",
            "Probabilidade de male: 0.6475869809203143\n",
            "Probabilidade de female: 0.35241301907968575\n",
            "Valores possíveis para Pclass: [3 1 2]\n",
            "Probabilidade de 3: 0.5510662177328844\n",
            "Probabilidade de 1: 0.24242424242424243\n",
            "Probabilidade de 2: 0.20650953984287318\n"
          ]
        }
      ],
      "source": [
        "categorical_atribute = ['Survived', 'Sex', 'Pclass']\n",
        "for atribute in categorical_atribute:\n",
        "  print(f\"Valores possíveis para {atribute}: {df[atribute].unique()}\")\n",
        "  \n",
        "  for value in df[atribute].unique():\n",
        "    print(f\"Probabilidade de {value}: {probability(df[atribute].value_counts()[value], len(df.index))}\")\n",
        "  \n"
      ]
    },
    {
      "cell_type": "markdown",
      "metadata": {
        "id": "uLrpGxiGujv8"
      },
      "source": [
        "# Questão 1.d\n"
      ]
    },
    {
      "cell_type": "code",
      "execution_count": null,
      "metadata": {
        "colab": {
          "base_uri": "https://localhost:8080/"
        },
        "id": "8Jr7azIYMSvB",
        "outputId": "6c89a9cc-cbc1-4037-9f59-8196b5555707"
      },
      "outputs": [
        {
          "output_type": "stream",
          "name": "stdout",
          "text": [
            "Quantidade de Valores Ausentes para cada atributo: \n",
            "PassengerId      0\n",
            "Survived         0\n",
            "Pclass           0\n",
            "Name             0\n",
            "Sex              0\n",
            "Age            177\n",
            "SibSp            0\n",
            "Parch            0\n",
            "Ticket           0\n",
            "Fare             0\n",
            "Cabin          687\n",
            "Embarked         2\n",
            "dtype: int64\n",
            "\n",
            "Alguns Valores presentes no atributo Ticket: ['A/5 21171' 'PC 17599' 'STON/O2. 3101282' '113803' '373450']\n",
            "\n",
            "Alguns Valores presentes no atributo Fare: [ 7.25   71.2833  7.925  53.1     8.05  ]\n",
            "\n"
          ]
        }
      ],
      "source": [
        "outlier_attributes = ['Ticket', 'Fare']\n",
        "\n",
        "print(f\"Quantidade de Valores Ausentes para cada atributo: \\n{df.isnull().sum()}\\n\")\n",
        "\n",
        "for attribute in list(outlier_attributes):\n",
        "  print(f'Alguns Valores presentes no atributo {attribute}: {df[attribute].unique()[:5]}\\n')"
      ]
    },
    {
      "cell_type": "markdown",
      "metadata": {
        "id": "Qc8EAd4krxxy"
      },
      "source": [
        "É possível observar que grande parte dos valores ausentes pertencem ao atributo Cabin.\n",
        "\n",
        "Além disso, a partir da análise dos dados é possível observar que o atributo Ticket apresenta inconsistências quanto a sua nomenclatura dado que em certos casos são utilizados apenas números, apenas letras ou uma combinação de ambos, de forma semelhante há uma inconsistência na taxa cobrada pela passagem de individuos dado que em alguns casos existe uma passagem sem custo.\n",
        "\n",
        "O atributo Ticket também apresenta valores aberrantes sendo que os valores variam desde uma combinação numérica e de letras, até o uso de apenas números para descrever o código do bilhete. Ademais, a partir da análise realizada sobre os atributos numéricos é possível determinar que o atributo Fare possui valores aberrantes dado que o valor mínimo encontrado é 0."
      ]
    },
    {
      "cell_type": "markdown",
      "metadata": {
        "id": "hDGeR-z6jtB8"
      },
      "source": [
        "# Questão 1.e"
      ]
    },
    {
      "cell_type": "code",
      "execution_count": null,
      "metadata": {
        "colab": {
          "base_uri": "https://localhost:8080/",
          "height": 523
        },
        "id": "8l9DejtJicH6",
        "outputId": "02079b0d-7a36-41e2-eeb9-528806c6c9a0"
      },
      "outputs": [
        {
          "output_type": "execute_result",
          "data": {
            "text/plain": [
              "<Axes: >"
            ]
          },
          "metadata": {},
          "execution_count": 12
        },
        {
          "output_type": "display_data",
          "data": {
            "text/plain": [
              "<Figure size 640x480 with 2 Axes>"
            ],
            "image/png": "[encoded data removed]"
          },
          "metadata": {}
        }
      ],
      "source": [
        "correlation = df.corr(numeric_only=True)\n",
        "plot = sn.heatmap(correlation, annot = True, fmt=\".1f\", linewidths=.6)\n",
        "plot"
      ]
    },
    {
      "cell_type": "markdown",
      "metadata": {
        "id": "hnJO3wTuxEvI"
      },
      "source": [
        "Primeiramente, os valores dos coeficientes de correlação de Pearson apresentados no mapa de calor dizem o quão correlacionados dois atributos são: quanto mais próximos de 1 ou -1 o coeficiente for, mais correlacionados são os atributos.\n",
        "\n",
        "É possível observar no mapa de calor que os atributos que possuem a maior correlação são o valor pago pelo bilhete do Titanic e a classe do alojamento. Dado que, os assentos presentes na primeira classse, usualmente, são mais caros quando comparados com os assentos da terceira classe.\n",
        "\n",
        "Também vemos uma correlação entre a quantidade de irmãos e esposas, com a quantidade de pais e filhos que um individuo tem abordo no navio. Isso pode acontecer pois muito indivíduos poderiam estar fazendo uma viagem em família.\n",
        "\n",
        "E por último, temos uma correlação entre a idade do individuo e a classe de seu alojamento. Para essa, não conseguimos identificar uma explicação para a correlação."
      ]
    },
    {
      "cell_type": "markdown",
      "metadata": {
        "id": "9ZZS8XaqMVaE"
      },
      "source": [
        "#Questão 2.a"
      ]
    },
    {
      "cell_type": "code",
      "execution_count": null,
      "metadata": {
        "id": "nnu_rdDPMYTx"
      },
      "outputs": [],
      "source": [
        "df['Cabin'] = df['Cabin'].fillna('')\n",
        "df['Age'] = df['Age'].fillna(df['Age'].mean())\n",
        "df['Embarked'] = df['Embarked'].fillna(df['Embarked'].mode())"
      ]
    },
    {
      "cell_type": "markdown",
      "metadata": {
        "id": "baFlo33kQhQC"
      },
      "source": [
        "O conjunto de dados possui três colunas que contêm valores nulos: **cabin**, **age**, e **embarked**. Então somente foi tratado esses valores.\n",
        "\n",
        "Para o atributo **cabin** foi substituído os valores nulos por uma string vazia, já que o atributo é uma string que não possui um padrão.\n",
        "\n",
        "Para o atributo **age** o valor substituído sob os nulos foi a média da idade.\n",
        "\n",
        "E para o atributo **embarked**, os valores nulos foram substituídos pela moda dos valores no conjunto de dados."
      ]
    },
    {
      "cell_type": "markdown",
      "metadata": {
        "id": "kYeGfVgVUx9V"
      },
      "source": [
        "# Questão 2.b"
      ]
    },
    {
      "cell_type": "code",
      "execution_count": null,
      "metadata": {
        "colab": {
          "base_uri": "https://localhost:8080/"
        },
        "id": "WQOl91dNU0AP",
        "outputId": "13e795b4-11dd-4436-e99a-8f0496836cd6"
      },
      "outputs": [
        {
          "output_type": "execute_result",
          "data": {
            "text/plain": [
              "0      (-0.512, 170.776]\n",
              "1      (-0.512, 170.776]\n",
              "2      (-0.512, 170.776]\n",
              "3      (-0.512, 170.776]\n",
              "4      (-0.512, 170.776]\n",
              "             ...        \n",
              "886    (-0.512, 170.776]\n",
              "887    (-0.512, 170.776]\n",
              "888    (-0.512, 170.776]\n",
              "889    (-0.512, 170.776]\n",
              "890    (-0.512, 170.776]\n",
              "Name: Fare, Length: 891, dtype: category\n",
              "Categories (3, interval[float64, right]): [(-0.512, 170.776] < (170.776, 341.553] <\n",
              "                                           (341.553, 512.329]]"
            ]
          },
          "metadata": {},
          "execution_count": 14
        }
      ],
      "source": [
        "pd.cut(df.Fare, bins=3, right=True)"
      ]
    },
    {
      "cell_type": "markdown",
      "metadata": {
        "id": "RMqUP7A-ZOqq"
      },
      "source": [
        "O único atributo que possui ruído é o **fare** que representa o preço dos bilhetes. Como o navio possui três classes, então dividimos os preços em três categorias eliminando assim qualquer ruído."
      ]
    },
    {
      "cell_type": "markdown",
      "metadata": {
        "id": "n9Fnrc35bR_b"
      },
      "source": [
        "# Questão 2.c"
      ]
    },
    {
      "cell_type": "markdown",
      "metadata": {
        "id": "JeUptP73dzpi"
      },
      "source": [
        "A inconsistência presente no atributo Ticket não pode ser solucionada dado que seria extremamente custoso a padronização de todos os valores, além disso esse atributo não afeta a análise à ser realizada posteriormente."
      ]
    },
    {
      "cell_type": "code",
      "execution_count": null,
      "metadata": {
        "colab": {
          "base_uri": "https://localhost:8080/",
          "height": 519
        },
        "id": "oOdFg4OeIjEK",
        "outputId": "34ad1af1-99d5-463c-c490-5d1ca08b80f7"
      },
      "outputs": [
        {
          "output_type": "execute_result",
          "data": {
            "text/plain": [
              "     PassengerId  Survived  Pclass                              Name   Sex  \\\n",
              "179          180         0       3               Leonard, Mr. Lionel  male   \n",
              "263          264         0       1             Harrison, Mr. William  male   \n",
              "271          272         1       3      Tornquist, Mr. William Henry  male   \n",
              "277          278         0       2       Parkes, Mr. Francis \"Frank\"  male   \n",
              "302          303         0       3   Johnson, Mr. William Cahoone Jr  male   \n",
              "413          414         0       2    Cunningham, Mr. Alfred Fleming  male   \n",
              "466          467         0       2             Campbell, Mr. William  male   \n",
              "481          482         0       2  Frost, Mr. Anthony Wood \"Archie\"  male   \n",
              "597          598         0       3               Johnson, Mr. Alfred  male   \n",
              "633          634         0       1     Parr, Mr. William Henry Marsh  male   \n",
              "674          675         0       2        Watson, Mr. Ennis Hastings  male   \n",
              "732          733         0       2              Knight, Mr. Robert J  male   \n",
              "806          807         0       1            Andrews, Mr. Thomas Jr  male   \n",
              "815          816         0       1                  Fry, Mr. Richard  male   \n",
              "822          823         0       1   Reuchlin, Jonkheer. John George  male   \n",
              "\n",
              "           Age  SibSp  Parch  Ticket  Fare Cabin Embarked  \n",
              "179  36.000000      0      0    LINE   0.0              S  \n",
              "263  40.000000      0      0  112059   0.0   B94        S  \n",
              "271  25.000000      0      0    LINE   0.0              S  \n",
              "277  29.699118      0      0  239853   0.0              S  \n",
              "302  19.000000      0      0    LINE   0.0              S  \n",
              "413  29.699118      0      0  239853   0.0              S  \n",
              "466  29.699118      0      0  239853   0.0              S  \n",
              "481  29.699118      0      0  239854   0.0              S  \n",
              "597  49.000000      0      0    LINE   0.0              S  \n",
              "633  29.699118      0      0  112052   0.0              S  \n",
              "674  29.699118      0      0  239856   0.0              S  \n",
              "732  29.699118      0      0  239855   0.0              S  \n",
              "806  39.000000      0      0  112050   0.0   A36        S  \n",
              "815  29.699118      0      0  112058   0.0  B102        S  \n",
              "822  38.000000      0      0   19972   0.0              S  "
            ],
            "text/html": [
              "\n",
              "  <div id=\"df-318a0429-64f8-466b-81d4-5ba01a944109\">\n",
              "    <div class=\"colab-df-container\">\n",
              "      <div>\n",
              "<style scoped>\n",
              "    .dataframe tbody tr th:only-of-type {\n",
              "        vertical-align: middle;\n",
              "    }\n",
              "\n",
              "    .dataframe tbody tr th {\n",
              "        vertical-align: top;\n",
              "    }\n",
              "\n",
              "    .dataframe thead th {\n",
              "        text-align: right;\n",
              "    }\n",
              "</style>\n",
              "<table border=\"1\" class=\"dataframe\">\n",
              "  <thead>\n",
              "    <tr style=\"text-align: right;\">\n",
              "      <th></th>\n",
              "      <th>PassengerId</th>\n",
              "      <th>Survived</th>\n",
              "      <th>Pclass</th>\n",
              "      <th>Name</th>\n",
              "      <th>Sex</th>\n",
              "      <th>Age</th>\n",
              "      <th>SibSp</th>\n",
              "      <th>Parch</th>\n",
              "      <th>Ticket</th>\n",
              "      <th>Fare</th>\n",
              "      <th>Cabin</th>\n",
              "      <th>Embarked</th>\n",
              "    </tr>\n",
              "  </thead>\n",
              "  <tbody>\n",
              "    <tr>\n",
              "      <th>179</th>\n",
              "      <td>180</td>\n",
              "      <td>0</td>\n",
              "      <td>3</td>\n",
              "      <td>Leonard, Mr. Lionel</td>\n",
              "      <td>male</td>\n",
              "      <td>36.000000</td>\n",
              "      <td>0</td>\n",
              "      <td>0</td>\n",
              "      <td>LINE</td>\n",
              "      <td>0.0</td>\n",
              "      <td></td>\n",
              "      <td>S</td>\n",
              "    </tr>\n",
              "    <tr>\n",
              "      <th>263</th>\n",
              "      <td>264</td>\n",
              "      <td>0</td>\n",
              "      <td>1</td>\n",
              "      <td>Harrison, Mr. William</td>\n",
              "      <td>male</td>\n",
              "      <td>40.000000</td>\n",
              "      <td>0</td>\n",
              "      <td>0</td>\n",
              "      <td>112059</td>\n",
              "      <td>0.0</td>\n",
              "      <td>B94</td>\n",
              "      <td>S</td>\n",
              "    </tr>\n",
              "    <tr>\n",
              "      <th>271</th>\n",
              "      <td>272</td>\n",
              "      <td>1</td>\n",
              "      <td>3</td>\n",
              "      <td>Tornquist, Mr. William Henry</td>\n",
              "      <td>male</td>\n",
              "      <td>25.000000</td>\n",
              "      <td>0</td>\n",
              "      <td>0</td>\n",
              "      <td>LINE</td>\n",
              "      <td>0.0</td>\n",
              "      <td></td>\n",
              "      <td>S</td>\n",
              "    </tr>\n",
              "    <tr>\n",
              "      <th>277</th>\n",
              "      <td>278</td>\n",
              "      <td>0</td>\n",
              "      <td>2</td>\n",
              "      <td>Parkes, Mr. Francis \"Frank\"</td>\n",
              "      <td>male</td>\n",
              "      <td>29.699118</td>\n",
              "      <td>0</td>\n",
              "      <td>0</td>\n",
              "      <td>239853</td>\n",
              "      <td>0.0</td>\n",
              "      <td></td>\n",
              "      <td>S</td>\n",
              "    </tr>\n",
              "    <tr>\n",
              "      <th>302</th>\n",
              "      <td>303</td>\n",
              "      <td>0</td>\n",
              "      <td>3</td>\n",
              "      <td>Johnson, Mr. William Cahoone Jr</td>\n",
              "      <td>male</td>\n",
              "      <td>19.000000</td>\n",
              "      <td>0</td>\n",
              "      <td>0</td>\n",
              "      <td>LINE</td>\n",
              "      <td>0.0</td>\n",
              "      <td></td>\n",
              "      <td>S</td>\n",
              "    </tr>\n",
              "    <tr>\n",
              "      <th>413</th>\n",
              "      <td>414</td>\n",
              "      <td>0</td>\n",
              "      <td>2</td>\n",
              "      <td>Cunningham, Mr. Alfred Fleming</td>\n",
              "      <td>male</td>\n",
              "      <td>29.699118</td>\n",
              "      <td>0</td>\n",
              "      <td>0</td>\n",
              "      <td>239853</td>\n",
              "      <td>0.0</td>\n",
              "      <td></td>\n",
              "      <td>S</td>\n",
              "    </tr>\n",
              "    <tr>\n",
              "      <th>466</th>\n",
              "      <td>467</td>\n",
              "      <td>0</td>\n",
              "      <td>2</td>\n",
              "      <td>Campbell, Mr. William</td>\n",
              "      <td>male</td>\n",
              "      <td>29.699118</td>\n",
              "      <td>0</td>\n",
              "      <td>0</td>\n",
              "      <td>239853</td>\n",
              "      <td>0.0</td>\n",
              "      <td></td>\n",
              "      <td>S</td>\n",
              "    </tr>\n",
              "    <tr>\n",
              "      <th>481</th>\n",
              "      <td>482</td>\n",
              "      <td>0</td>\n",
              "      <td>2</td>\n",
              "      <td>Frost, Mr. Anthony Wood \"Archie\"</td>\n",
              "      <td>male</td>\n",
              "      <td>29.699118</td>\n",
              "      <td>0</td>\n",
              "      <td>0</td>\n",
              "      <td>239854</td>\n",
              "      <td>0.0</td>\n",
              "      <td></td>\n",
              "      <td>S</td>\n",
              "    </tr>\n",
              "    <tr>\n",
              "      <th>597</th>\n",
              "      <td>598</td>\n",
              "      <td>0</td>\n",
              "      <td>3</td>\n",
              "      <td>Johnson, Mr. Alfred</td>\n",
              "      <td>male</td>\n",
              "      <td>49.000000</td>\n",
              "      <td>0</td>\n",
              "      <td>0</td>\n",
              "      <td>LINE</td>\n",
              "      <td>0.0</td>\n",
              "      <td></td>\n",
              "      <td>S</td>\n",
              "    </tr>\n",
              "    <tr>\n",
              "      <th>633</th>\n",
              "      <td>634</td>\n",
              "      <td>0</td>\n",
              "      <td>1</td>\n",
              "      <td>Parr, Mr. William Henry Marsh</td>\n",
              "      <td>male</td>\n",
              "      <td>29.699118</td>\n",
              "      <td>0</td>\n",
              "      <td>0</td>\n",
              "      <td>112052</td>\n",
              "      <td>0.0</td>\n",
              "      <td></td>\n",
              "      <td>S</td>\n",
              "    </tr>\n",
              "    <tr>\n",
              "      <th>674</th>\n",
              "      <td>675</td>\n",
              "      <td>0</td>\n",
              "      <td>2</td>\n",
              "      <td>Watson, Mr. Ennis Hastings</td>\n",
              "      <td>male</td>\n",
              "      <td>29.699118</td>\n",
              "      <td>0</td>\n",
              "      <td>0</td>\n",
              "      <td>239856</td>\n",
              "      <td>0.0</td>\n",
              "      <td></td>\n",
              "      <td>S</td>\n",
              "    </tr>\n",
              "    <tr>\n",
              "      <th>732</th>\n",
              "      <td>733</td>\n",
              "      <td>0</td>\n",
              "      <td>2</td>\n",
              "      <td>Knight, Mr. Robert J</td>\n",
              "      <td>male</td>\n",
              "      <td>29.699118</td>\n",
              "      <td>0</td>\n",
              "      <td>0</td>\n",
              "      <td>239855</td>\n",
              "      <td>0.0</td>\n",
              "      <td></td>\n",
              "      <td>S</td>\n",
              "    </tr>\n",
              "    <tr>\n",
              "      <th>806</th>\n",
              "      <td>807</td>\n",
              "      <td>0</td>\n",
              "      <td>1</td>\n",
              "      <td>Andrews, Mr. Thomas Jr</td>\n",
              "      <td>male</td>\n",
              "      <td>39.000000</td>\n",
              "      <td>0</td>\n",
              "      <td>0</td>\n",
              "      <td>112050</td>\n",
              "      <td>0.0</td>\n",
              "      <td>A36</td>\n",
              "      <td>S</td>\n",
              "    </tr>\n",
              "    <tr>\n",
              "      <th>815</th>\n",
              "      <td>816</td>\n",
              "      <td>0</td>\n",
              "      <td>1</td>\n",
              "      <td>Fry, Mr. Richard</td>\n",
              "      <td>male</td>\n",
              "      <td>29.699118</td>\n",
              "      <td>0</td>\n",
              "      <td>0</td>\n",
              "      <td>112058</td>\n",
              "      <td>0.0</td>\n",
              "      <td>B102</td>\n",
              "      <td>S</td>\n",
              "    </tr>\n",
              "    <tr>\n",
              "      <th>822</th>\n",
              "      <td>823</td>\n",
              "      <td>0</td>\n",
              "      <td>1</td>\n",
              "      <td>Reuchlin, Jonkheer. John George</td>\n",
              "      <td>male</td>\n",
              "      <td>38.000000</td>\n",
              "      <td>0</td>\n",
              "      <td>0</td>\n",
              "      <td>19972</td>\n",
              "      <td>0.0</td>\n",
              "      <td></td>\n",
              "      <td>S</td>\n",
              "    </tr>\n",
              "  </tbody>\n",
              "</table>\n",
              "</div>\n",
              "      <button class=\"colab-df-convert\" onclick=\"convertToInteractive('df-318a0429-64f8-466b-81d4-5ba01a944109')\"\n",
              "              title=\"Convert this dataframe to an interactive table.\"\n",
              "              style=\"display:none;\">\n",
              "        \n",
              "  <svg xmlns=\"http://www.w3.org/2000/svg\" height=\"24px\"viewBox=\"0 0 24 24\"\n",
              "       width=\"24px\">\n",
              "    <path d=\"M0 0h24v24H0V0z\" fill=\"none\"/>\n",
              "    <path d=\"M18.56 5.44l.94 2.06.94-2.06 2.06-.94-2.06-.94-.94-2.06-.94 2.06-2.06.94zm-11 1L8.5 8.5l.94-2.06 2.06-.94-2.06-.94L8.5 2.5l-.94 2.06-2.06.94zm10 10l.94 2.06.94-2.06 2.06-.94-2.06-.94-.94-2.06-.94 2.06-2.06.94z\"/><path d=\"M17.41 7.96l-1.37-1.37c-.4-.4-.92-.59-1.43-.59-.52 0-1.04.2-1.43.59L10.3 9.45l-7.72 7.72c-.78.78-.78 2.05 0 2.83L4 21.41c.39.39.9.59 1.41.59.51 0 1.02-.2 1.41-.59l7.78-7.78 2.81-2.81c.8-.78.8-2.07 0-2.86zM5.41 20L4 18.59l7.72-7.72 1.47 1.35L5.41 20z\"/>\n",
              "  </svg>\n",
              "      </button>\n",
              "      \n",
              "  <style>\n",
              "    .colab-df-container {\n",
              "      display:flex;\n",
              "      flex-wrap:wrap;\n",
              "      gap: 12px;\n",
              "    }\n",
              "\n",
              "    .colab-df-convert {\n",
              "      background-color: #E8F0FE;\n",
              "      border: none;\n",
              "      border-radius: 50%;\n",
              "      cursor: pointer;\n",
              "      display: none;\n",
              "      fill: #1967D2;\n",
              "      height: 32px;\n",
              "      padding: 0 0 0 0;\n",
              "      width: 32px;\n",
              "    }\n",
              "\n",
              "    .colab-df-convert:hover {\n",
              "      background-color: #E2EBFA;\n",
              "      box-shadow: 0px 1px 2px rgba(60, 64, 67, 0.3), 0px 1px 3px 1px rgba(60, 64, 67, 0.15);\n",
              "      fill: #174EA6;\n",
              "    }\n",
              "\n",
              "    [theme=dark] .colab-df-convert {\n",
              "      background-color: #3B4455;\n",
              "      fill: #D2E3FC;\n",
              "    }\n",
              "\n",
              "    [theme=dark] .colab-df-convert:hover {\n",
              "      background-color: #434B5C;\n",
              "      box-shadow: 0px 1px 3px 1px rgba(0, 0, 0, 0.15);\n",
              "      filter: drop-shadow(0px 1px 2px rgba(0, 0, 0, 0.3));\n",
              "      fill: #FFFFFF;\n",
              "    }\n",
              "  </style>\n",
              "\n",
              "      <script>\n",
              "        const buttonEl =\n",
              "          document.querySelector('#df-318a0429-64f8-466b-81d4-5ba01a944109 button.colab-df-convert');\n",
              "        buttonEl.style.display =\n",
              "          google.colab.kernel.accessAllowed ? 'block' : 'none';\n",
              "\n",
              "        async function convertToInteractive(key) {\n",
              "          const element = document.querySelector('#df-318a0429-64f8-466b-81d4-5ba01a944109');\n",
              "          const dataTable =\n",
              "            await google.colab.kernel.invokeFunction('convertToInteractive',\n",
              "                                                     [key], {});\n",
              "          if (!dataTable) return;\n",
              "\n",
              "          const docLinkHtml = 'Like what you see? Visit the ' +\n",
              "            '<a target=\"_blank\" href=https://colab.research.google.com/notebooks/data_table.ipynb>data table notebook</a>'\n",
              "            + ' to learn more about interactive tables.';\n",
              "          element.innerHTML = '';\n",
              "          dataTable['output_type'] = 'display_data';\n",
              "          await google.colab.output.renderOutput(dataTable, element);\n",
              "          const docLink = document.createElement('div');\n",
              "          docLink.innerHTML = docLinkHtml;\n",
              "          element.appendChild(docLink);\n",
              "        }\n",
              "      </script>\n",
              "    </div>\n",
              "  </div>\n",
              "  "
            ]
          },
          "metadata": {},
          "execution_count": 15
        }
      ],
      "source": [
        "df[df['Fare'] == 0]"
      ]
    },
    {
      "cell_type": "code",
      "execution_count": null,
      "metadata": {
        "id": "oIc93EgmJcJk",
        "colab": {
          "base_uri": "https://localhost:8080/"
        },
        "outputId": "57839917-0d96-4833-de0b-770f1a9c6166"
      },
      "outputs": [
        {
          "output_type": "stream",
          "name": "stdout",
          "text": [
            "Preço médio do bilhete da classe 1: 84.1546875\n",
            "Preço médio do bilhete da classe 2: 20.662183152173913\n",
            "Preço médio do bilhete da classe 3: 13.675550101832993\n"
          ]
        }
      ],
      "source": [
        "def medium_fare(pclass):\n",
        "  return df[df['Pclass'] == pclass]['Fare'].mean()\n",
        "\n",
        "print(f'Preço médio do bilhete da classe 1: {medium_fare(1)}')\n",
        "print(f'Preço médio do bilhete da classe 2: {medium_fare(2)}')\n",
        "print(f'Preço médio do bilhete da classe 3: {medium_fare(3)}')"
      ]
    },
    {
      "cell_type": "code",
      "execution_count": null,
      "metadata": {
        "id": "cj5WmkcMd4NO"
      },
      "outputs": [],
      "source": [
        "pclasses = [1, 2, 3]\n",
        "\n",
        "for pclass in pclasses:\n",
        "  mean = medium_fare(pclass)\n",
        "  df.loc[(df['Fare'] == 0) & (df['Pclass'] == pclass)].replace(0, mean)"
      ]
    },
    {
      "cell_type": "markdown",
      "metadata": {
        "id": "r52DVXG1nTZJ"
      },
      "source": [
        "A inconsistência presente no atributo Fare foi solucionada a partir da média dos valores pagos por individuos com o mesmo tipo de classe da passagem, para então substituir aqueles que se encontram zerados."
      ]
    },
    {
      "cell_type": "markdown",
      "metadata": {
        "id": "VHXmwzKvFinV"
      },
      "source": [
        "# Questão 2.d"
      ]
    },
    {
      "cell_type": "code",
      "execution_count": null,
      "metadata": {
        "colab": {
          "base_uri": "https://localhost:8080/"
        },
        "id": "Dh_kARUGFi1f",
        "outputId": "ff0fe32d-82b3-4d4e-d5f2-51ebab68be2d"
      },
      "outputs": [
        {
          "output_type": "stream",
          "name": "stdout",
          "text": [
            "Vetor numérico contendo a transformação dos atributos categóricos nominais: [[1. 0. 0. ... 0. 1. 0.]\n",
            " [0. 1. 0. ... 0. 0. 0.]\n",
            " [0. 0. 1. ... 0. 1. 0.]\n",
            " ...\n",
            " [0. 0. 0. ... 0. 1. 0.]\n",
            " [0. 0. 0. ... 0. 0. 0.]\n",
            " [0. 0. 0. ... 1. 0. 0.]]\n"
          ]
        }
      ],
      "source": [
        "nominal_attributes = []\n",
        "\n",
        "for index, row in df.iterrows():\n",
        "  nominal_attributes.append([row[\"Name\"], row[\"Ticket\"], row[\"Cabin\"]])\n",
        "\n",
        "nominal_attributes = OneHotEncoder().fit_transform(df).toarray()\n",
        "print(f'Vetor numérico contendo a transformação dos atributos categóricos nominais: {nominal_attributes}')"
      ]
    },
    {
      "cell_type": "markdown",
      "metadata": {
        "id": "fitdrDBjRTsJ"
      },
      "source": [
        "# Questão 2.e"
      ]
    },
    {
      "cell_type": "markdown",
      "metadata": {
        "id": "e3_EHzA-YrXV"
      },
      "source": [
        "O atributo **PassengerId** não necessita de uma transformação para ser interpretado como um atributo numérico, já que ele identifica unicamente cada indivíduo, começando pelo valor 1 e sendo incrementado em 1 para cada registro.\n",
        "\n",
        "Similiarmente, o atributo **Pclass** também não necessita de uma transformação, já que cada classe econômica é representada por um número do intervalo [1, 3], onde 1 é a classe mais alta e 3 é a mais baixa."
      ]
    },
    {
      "cell_type": "code",
      "execution_count": null,
      "metadata": {
        "colab": {
          "base_uri": "https://localhost:8080/"
        },
        "id": "y76WfU66at59",
        "outputId": "6066252e-78ec-432e-89b8-9d8d6fd96820"
      },
      "outputs": [
        {
          "output_type": "stream",
          "name": "stdout",
          "text": [
            "Tipo da coluna PassengerId: int64\n",
            "Tipo da coluna Pclass: int64\n"
          ]
        }
      ],
      "source": [
        "print(f'Tipo da coluna PassengerId: {df[\"PassengerId\"].dtypes}')\n",
        "print(f'Tipo da coluna Pclass: {df[\"Pclass\"].dtypes}')"
      ]
    },
    {
      "cell_type": "markdown",
      "metadata": {
        "id": "J1Pziul1YrtL"
      },
      "source": [
        "# Questão 2.f"
      ]
    },
    {
      "cell_type": "code",
      "execution_count": null,
      "metadata": {
        "colab": {
          "base_uri": "https://localhost:8080/"
        },
        "id": "kCXDkMe7Yt4c",
        "outputId": "b8264a75-871d-420c-d128-de43e6bac0ce"
      },
      "outputs": [
        {
          "output_type": "stream",
          "name": "stdout",
          "text": [
            "Exemplos de valores normalizados para a coluna Age: [-0.59214803  0.63843044 -0.28450341  0.40769698  0.        ]\n",
            "\n",
            "Exemplos de valores normalizados para a coluna SibSp: [ 0.43255043 -0.47427882  2.24620893  3.15303818  1.33937968]\n",
            "\n",
            "Exemplos de valores normalizados para a coluna Parch: [-0.47340772  0.76719899  2.0078057   5.72962584  3.24841242]\n",
            "\n",
            "Exemplos de valores normalizados para a coluna Fare: [-0.50216314  0.78640362 -0.48857985  0.42049407 -0.48606443]\n",
            "\n"
          ]
        }
      ],
      "source": [
        "for attribute in numeric_attributes:\n",
        "  df[attribute] = (df[attribute] - df[attribute].mean()) / df[attribute].std()\n",
        "  print(f'Exemplos de valores normalizados para a coluna {attribute}: {df[attribute].unique()[:5]}\\n')"
      ]
    }
  ],
  "metadata": {
    "colab": {
      "provenance": []
    },
    "kernelspec": {
      "display_name": "Python 3",
      "name": "python3"
    },
    "language_info": {
      "name": "python"
    }
  },
  "nbformat": 4,
  "nbformat_minor": 0
}